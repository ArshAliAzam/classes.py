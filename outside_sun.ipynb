{
 "cells": [
  {
   "cell_type": "code",
   "execution_count": 18,
   "id": "cf6e1a9e",
   "metadata": {},
   "outputs": [
    {
     "name": "stdout",
     "output_type": "stream",
     "text": [
      "Person(name='Arsh', age=18, skin='white')\n"
     ]
    }
   ],
   "source": [
    "from dataclasses import dataclass\n",
    "\n",
    "@dataclass\n",
    "class Person:\n",
    "\n",
    "    name: str\n",
    "    age: int\n",
    "    skin: str\n",
    "\n",
    "person1 = Person(\"Arsh\", 18, \"white\")\n",
    "print(person1)\n"
   ]
  },
  {
   "cell_type": "code",
   "execution_count": 21,
   "id": "02b92732",
   "metadata": {},
   "outputs": [
    {
     "name": "stdout",
     "output_type": "stream",
     "text": [
      "Kabab name: Chicken kabab\n",
      "kabab flavor: BBQ\n",
      "kabab price: 300\n"
     ]
    }
   ],
   "source": [
    "class kabab:\n",
    "\n",
    "    def __init__(sell, name, flavor, price):\n",
    "        sell.name = name\n",
    "        sell.flavor = flavor\n",
    "        sell.price = price\n",
    "\n",
    "kabab1 = kabab(\"Chicken kabab\", \"BBQ\", 300)\n",
    "print(f\"Kabab name: {kabab1.name}\")\n",
    "print(f\"kabab flavor: {kabab1.flavor}\")\n",
    "print(f\"kabab price: {kabab1.price}\")\n"
   ]
  },
  {
   "cell_type": "code",
   "execution_count": 51,
   "id": "06e58705",
   "metadata": {},
   "outputs": [
    {
     "name": "stdout",
     "output_type": "stream",
     "text": [
      "The employe name is Arsh\n",
      "1\n"
     ]
    }
   ],
   "source": [
    "@dataclass\n",
    "\n",
    "class Employe:\n",
    "    name:str\n",
    "    __employe_id: int\n",
    "\n",
    "    def emp_name(self,name):\n",
    "        print(f\"The employe name is {self.name}\")\n",
    "    \n",
    "    def __emp_id(self, __employe_id):\n",
    "        if __employe_id == 1:\n",
    "            return (\"Salary 100,000\")\n",
    "        elif __employe_id == 2:\n",
    "            return (\"Salary is 80,000\")\n",
    "        else:\n",
    "            return (\"Salary is under 50,000\")\n",
    "        \n",
    "    def get_emp_id(self):\n",
    "        return self.__employe_id\n",
    "\n",
    "person3 = Employe(\"Arsh\", 1)\n",
    "# print(person3.name)\n",
    "\n",
    "person3.emp_name(\"Arsh\")\n",
    "# print(f\"Employe ID is : '{person3.employe_id}'\")\n",
    "print(person3.get_emp_id())\n",
    "# person3.__emp_id(1)\n"
   ]
  },
  {
   "cell_type": "code",
   "execution_count": 45,
   "id": "14031c23",
   "metadata": {},
   "outputs": [
    {
     "name": "stdout",
     "output_type": "stream",
     "text": [
      "Person2(name='Arsh', city='Karachi', country='pakistan')\n"
     ]
    }
   ],
   "source": [
    "@dataclass\n",
    "\n",
    "class Person1:\n",
    "\n",
    "    name: str \n",
    "    city: str\n",
    "\n",
    "@dataclass\n",
    "class Person2(Person1):\n",
    "    country: str\n",
    "\n",
    "\n",
    "arsh = Person2(\"Arsh\", \"Karachi\", \"pakistan\")\n",
    "print(arsh)\n",
    "\n"
   ]
  },
  {
   "cell_type": "markdown",
   "id": "93437f89",
   "metadata": {},
   "source": [
    "## Inheritence🫁\n",
    "do not repeat your self"
   ]
  },
  {
   "cell_type": "code",
   "execution_count": 60,
   "id": "257b7113",
   "metadata": {},
   "outputs": [
    {
     "name": "stdout",
     "output_type": "stream",
     "text": [
      "100000\n",
      "Arsh\n",
      "18\n"
     ]
    }
   ],
   "source": [
    "class Person:\n",
    "    def __init__(self, name, age):\n",
    "        self.name = name\n",
    "        self.age = age\n",
    "\n",
    "class Male(Person):\n",
    "\n",
    "    def __init__(self, maleName, maleAge):\n",
    "        # person\n",
    "        super().__init__(maleName, maleAge)\n",
    "        self.income = 100000\n",
    "\n",
    "male1 = Male(\"Arsh\", 18)\n",
    "print(male1.income)\n",
    "print(male1.name)\n",
    "print(male1.age)\n",
    "    "
   ]
  },
  {
   "cell_type": "code",
   "execution_count": 65,
   "id": "3ad94b01",
   "metadata": {},
   "outputs": [
    {
     "name": "stdout",
     "output_type": "stream",
     "text": [
      "person is Working\n",
      "person1.name>>> Aqib\n",
      "Male is working\n",
      "person1.name>>> Arsh\n"
     ]
    }
   ],
   "source": [
    "class Person:\n",
    "    def __init__(self, name, age):\n",
    "        self.name = name\n",
    "        self.age = age\n",
    "\n",
    "    def work(self):\n",
    "        print(\"person is Working\")\n",
    "\n",
    "person1 = Person(\"Aqib\", 30)\n",
    "person1.work()\n",
    "print(\"person1.name>>>\",person1.name)\n",
    "\n",
    "class Male(Person):\n",
    "\n",
    "    def __init__(self, maleName, maleAge):\n",
    "        # person\n",
    "        super().__init__(maleName, maleAge)\n",
    "        self.income = 100000\n",
    "\n",
    "    def work(self):\n",
    "        print(\"Male is working\")\n",
    "\n",
    "male1 = Male(\"Arsh\", 18)\n",
    "male1.work()\n",
    "print(\"person1.name>>>\",male1.name)\n"
   ]
  }
 ],
 "metadata": {
  "kernelspec": {
   "display_name": "Python 3",
   "language": "python",
   "name": "python3"
  },
  "language_info": {
   "codemirror_mode": {
    "name": "ipython",
    "version": 3
   },
   "file_extension": ".py",
   "mimetype": "text/x-python",
   "name": "python",
   "nbconvert_exporter": "python",
   "pygments_lexer": "ipython3",
   "version": "3.13.1"
  }
 },
 "nbformat": 4,
 "nbformat_minor": 5
}
