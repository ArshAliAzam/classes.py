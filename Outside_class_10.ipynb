{
 "cells": [
  {
   "cell_type": "markdown",
   "metadata": {},
   "source": [
    "# GLOBAL🌍 VARAIBLE AND LOCAL🗝️ VARAIBLE "
   ]
  },
  {
   "cell_type": "code",
   "execution_count": null,
   "metadata": {},
   "outputs": [
    {
     "name": "stdout",
     "output_type": "stream",
     "text": [
      "num_x outside function one 5\n",
      "num_x inside function one 10\n",
      "hello arsh\n",
      "num_x outside function one 10\n",
      "result<<< 20\n"
     ]
    }
   ],
   "source": [
    "num_x = 5\n",
    "print(\"num_x outside function one\", num_x)\n",
    "\n",
    "def hello():\n",
    "    global num_x\n",
    "    global result\n",
    "    result = 10 + 10 \n",
    "    num_x = 10\n",
    "    print(\"num_x inside function one\", num_x)\n",
    "    print(\"hello arsh\")\n",
    "\n",
    "hello()\n",
    "print(\"num_x outside function one\", num_x)\n",
    "print(\"result<<<\",result)"
   ]
  },
  {
   "cell_type": "markdown",
   "metadata": {},
   "source": [
    "# DOCSTRING🐶__\"\"\"\"\"\"__"
   ]
  },
  {
   "cell_type": "code",
   "execution_count": null,
   "metadata": {},
   "outputs": [
    {
     "name": "stdout",
     "output_type": "stream",
     "text": [
      "take their parameter and return their sum\n",
      "7\n"
     ]
    }
   ],
   "source": [
    "def addition(num1: int, num: int)-> int:\n",
    "    \"\"\"take their parameter and return their sum\"\"\" # docstring only use in 1 line \n",
    "    return num1 + num\n",
    "\n",
    "result = addition(2,5)\n",
    "print(addition.__doc__)\n",
    "print(result)"
   ]
  },
  {
   "cell_type": "markdown",
   "metadata": {},
   "source": [
    "# SET 📐"
   ]
  },
  {
   "cell_type": "code",
   "execution_count": 32,
   "metadata": {},
   "outputs": [
    {
     "name": "stdout",
     "output_type": "stream",
     "text": [
      "<class 'list'>\n",
      "name list:  ['Ali', 'Arsh', 'Amir', 'Arsh', 'Ali']\n",
      "\n",
      "<class 'set'>\n",
      "name set:  {'Amir', 'Arsh', 'Ali'}\n"
     ]
    }
   ],
   "source": [
    "name_list = [\"Ali\", \"Arsh\", \"Amir\", \"Arsh\", \"Ali\"]\n",
    "name_set = {\"Ali\", \"Arsh\", \"Amir\", \"Arsh\", \"Ali\"} # dont repeat one value\n",
    "\n",
    "print(type(name_list))\n",
    "print(\"name list: \", name_list)\n",
    "print()\n",
    "print(type(name_set))\n",
    "print(\"name set: \",name_set)"
   ]
  },
  {
   "cell_type": "markdown",
   "metadata": {},
   "source": [
    "# SET📐 METHODS\n",
    "1. add\n",
    "2. remove\n",
    "3. discard\n",
    "4. pop\n",
    "5. union\n",
    "6. intersection"
   ]
  },
  {
   "cell_type": "code",
   "execution_count": null,
   "metadata": {},
   "outputs": [
    {
     "name": "stdout",
     "output_type": "stream",
     "text": [
      "Add set: {'Aqib', 'Amir', 'Arsh', 'Ali'}\n",
      "remove set: {'Aqib', 'Arsh', 'Ali'}\n",
      "discard set: {'Arsh', 'Ali'}\n",
      "popping set: {'Ali'}\n"
     ]
    }
   ],
   "source": [
    "name_set = {\"Ali\", \"Arsh\", \"Amir\", \"Arsh\", \"Ali\"}\n",
    "\n",
    "# 1. add\n",
    "name_set.add(\"Aqib\")\n",
    "print(f\"Add set: {name_set}\")\n",
    "\n",
    "# 2.remove\n",
    "name_set.remove(\"Amir\") # if the value is not in set so (remove) show error\n",
    "print(f\"remove set: {name_set}\")\n",
    "\n",
    "#                                       but (discard) and (remove) and (pop) have same work\n",
    "\n",
    "# 3. discard\n",
    "name_set.discard(\"Aqib\") # if the value is not in set so (discard) don't show error\n",
    "print(f\"discard set: {name_set}\")\n",
    "\n",
    "# 1. popping\n",
    "name_set.pop()\n",
    "print(f\"popping set: {name_set}\")\n",
    "\n"
   ]
  },
  {
   "cell_type": "code",
   "execution_count": null,
   "metadata": {},
   "outputs": [
    {
     "name": "stdout",
     "output_type": "stream",
     "text": [
      "Result of Union set:  {1, 2, 3, 4, 5}\n"
     ]
    }
   ],
   "source": [
    "# Union\n",
    "# marge two set in one\n",
    "num_set_1 = {1,2,3}\n",
    "num_set_2 = {3,4,5}\n",
    "\n",
    "result = num_set_1.union(num_set_2)\n",
    "print(\"Result of Union set: \",result)"
   ]
  },
  {
   "cell_type": "code",
   "execution_count": 35,
   "metadata": {},
   "outputs": [
    {
     "name": "stdout",
     "output_type": "stream",
     "text": [
      "Result of intersection set:  {3}\n"
     ]
    }
   ],
   "source": [
    "# Intersection\n",
    "# show the special nuber or the number that repeated\n",
    "num_set_1 = {1,2,3}\n",
    "num_set_2 = {3,4,5}\n",
    "\n",
    "result = num_set_1.intersection(num_set_2)\n",
    "print(\"Result of intersection set: \",result)"
   ]
  }
 ],
 "metadata": {
  "kernelspec": {
   "display_name": "Python 3",
   "language": "python",
   "name": "python3"
  },
  "language_info": {
   "codemirror_mode": {
    "name": "ipython",
    "version": 3
   },
   "file_extension": ".py",
   "mimetype": "text/x-python",
   "name": "python",
   "nbconvert_exporter": "python",
   "pygments_lexer": "ipython3",
   "version": "3.13.1"
  }
 },
 "nbformat": 4,
 "nbformat_minor": 2
}
