{
  "nbformat": 4,
  "nbformat_minor": 0,
  "metadata": {
    "colab": {
      "provenance": [],
      "authorship_tag": "ABX9TyPVSrDQQOtp5Zw0HA5hCAKu",
      "include_colab_link": true
    },
    "kernelspec": {
      "name": "python3",
      "display_name": "Python 3"
    },
    "language_info": {
      "name": "python"
    }
  },
  "cells": [
    {
      "cell_type": "markdown",
      "metadata": {
        "id": "view-in-github",
        "colab_type": "text"
      },
      "source": [
        "<a href=\"https://colab.research.google.com/github/ArshAliAzam/projects/blob/main/Guess%20the%20number.ipynb\" target=\"_parent\"><img src=\"https://colab.research.google.com/assets/colab-badge.svg\" alt=\"Open In Colab\"/></a>"
      ]
    },
    {
      "cell_type": "markdown",
      "source": [
        "# GUESS THE NUMBER BY USER"
      ],
      "metadata": {
        "id": "ZpJbQI5L-Ahb"
      }
    },
    {
      "cell_type": "code",
      "execution_count": null,
      "metadata": {
        "id": "SyFALaKW9ujo"
      },
      "outputs": [],
      "source": [
        "import random\n",
        "\n",
        "try:\n",
        "    def numbers():\n",
        "\n",
        "        computer = random.randint(1,10)\n",
        "        numbers = 0\n",
        "\n",
        "        while numbers != computer:\n",
        "            numbers = int(input(\"Enter 1 to 10: \"))\n",
        "            if numbers < computer:\n",
        "                print(\"It's too low👇\")\n",
        "            else:\n",
        "                print(\"It's too high👆\")\n",
        "        print(f\"U guess the correct number, Baby🥳🥳: {numbers}\")\n",
        "\n",
        "    numbers()\n",
        "\n",
        "except Exception as e:\n",
        "    print(e)"
      ]
    }
  ]
}