{
 "cells": [
  {
   "cell_type": "markdown",
   "metadata": {},
   "source": [
    "# _____1- IS vs ==🟰_____\n",
    "# _____2- Generators🧞_____\n",
    "# _____3- List Comprehension🗜️_____\n",
    "-String\n",
    "-Integer\n",
    "-Floot\n",
    "-boolen\n",
    "-list\n",
    "-tuple\n",
    "-dict\n",
    "-set\n",
    "-None"
   ]
  },
  {
   "cell_type": "markdown",
   "metadata": {},
   "source": [
    "### _____Mutable Data Types🔕_____ (that can change)"
   ]
  },
  {
   "cell_type": "code",
   "execution_count": null,
   "metadata": {},
   "outputs": [],
   "source": [
    "# list\n",
    "# dictionary\n",
    "# set"
   ]
  },
  {
   "cell_type": "markdown",
   "metadata": {},
   "source": [
    "### _____Immutable🔔_____ (that can not change)"
   ]
  },
  {
   "cell_type": "code",
   "execution_count": 8,
   "metadata": {},
   "outputs": [],
   "source": [
    "# String\n",
    "# Integer\n",
    "# Floot\n",
    "# boolen\n",
    "# tuple"
   ]
  },
  {
   "cell_type": "code",
   "execution_count": 9,
   "metadata": {},
   "outputs": [
    {
     "name": "stdout",
     "output_type": "stream",
     "text": [
      "['biryani', 'pakore', 'fruit chat', 'Ice cream']\n"
     ]
    }
   ],
   "source": [
    "dishes = [\"biryani\", \"pakore\", \"fruit chat\"]\n",
    "dishes.append(\"Ice cream\")\n",
    "print(dishes)"
   ]
  },
  {
   "cell_type": "code",
   "execution_count": null,
   "metadata": {},
   "outputs": [],
   "source": [
    "name: str = \"Arsh Ali Azam\"\n",
    "number: int = 20\n",
    "print(name)"
   ]
  },
  {
   "cell_type": "markdown",
   "metadata": {},
   "source": [
    "# _____IS vs ==🟰_____"
   ]
  },
  {
   "cell_type": "code",
   "execution_count": 13,
   "metadata": {},
   "outputs": [
    {
     "name": "stdout",
     "output_type": "stream",
     "text": [
      "True\n",
      "False\n"
     ]
    }
   ],
   "source": [
    "list1 = [1,2,3,4,5]\n",
    "list2 = [1,2,3,4,5]\n",
    "\n",
    "print (list1 == list2)\n",
    "print (list1 is list2)"
   ]
  },
  {
   "cell_type": "code",
   "execution_count": 14,
   "metadata": {},
   "outputs": [
    {
     "name": "stdout",
     "output_type": "stream",
     "text": [
      "True\n",
      "True\n"
     ]
    }
   ],
   "source": [
    "list1 = [1,2,3,4,5]\n",
    "list2 = list1\n",
    "\n",
    "print (list1 == list2)\n",
    "print (list1 is list2)"
   ]
  },
  {
   "cell_type": "code",
   "execution_count": null,
   "metadata": {},
   "outputs": [
    {
     "name": "stdout",
     "output_type": "stream",
     "text": [
      "list2>>> [1, 2, 3, 4, 5, 6]\n"
     ]
    }
   ],
   "source": [
    "list1 = [1,2,3,4,5]\n",
    "list2 = list1 # Reference of list1\n",
    "list1.append(6) # [1,2,3,4,5,6]\n",
    "\n",
    "print(\"list2>>>\", list2) # Call list1"
   ]
  },
  {
   "cell_type": "code",
   "execution_count": 28,
   "metadata": {},
   "outputs": [
    {
     "name": "stdout",
     "output_type": "stream",
     "text": [
      "how are u?\n"
     ]
    }
   ],
   "source": [
    "value1: str = \"how are u?\"\n",
    "value2: str = \"how are u?\"\n",
    "\n",
    "value1 = \"I am fine\"\n",
    "print (value2)"
   ]
  },
  {
   "cell_type": "code",
   "execution_count": 27,
   "metadata": {},
   "outputs": [
    {
     "name": "stdout",
     "output_type": "stream",
     "text": [
      "___String___\n",
      "False\n",
      "___integer___\n",
      "False\n",
      "___boolen___\n",
      "True\n",
      "___floot___\n",
      "False\n"
     ]
    }
   ],
   "source": [
    "# String\n",
    "name1 = \"Arsh ALi Azam\"\n",
    "name2 = \"Arsh ALi Azam\"\n",
    "#integer\n",
    "num1 = 257\n",
    "num2 = 257\n",
    "# Boolen\n",
    "bool1 = True\n",
    "bool2 = True\n",
    "# floot\n",
    "floot1 = 1.2\n",
    "floot2 = 1.2\n",
    "\n",
    "print(\"___String___\")\n",
    "print (name1 is name2)\n",
    "print(\"___integer___\")\n",
    "print (num1 is num2)\n",
    "print(\"___boolen___\")\n",
    "print (bool1 is bool2)\n",
    "print(\"___floot___\")\n",
    "print (floot1 is floot2)"
   ]
  },
  {
   "cell_type": "markdown",
   "metadata": {},
   "source": [
    "# _____List Comprehension🗜️_____"
   ]
  },
  {
   "cell_type": "markdown",
   "metadata": {},
   "source": [
    "### __NORMAL ZINDAGI__"
   ]
  },
  {
   "cell_type": "code",
   "execution_count": 44,
   "metadata": {},
   "outputs": [
    {
     "name": "stdout",
     "output_type": "stream",
     "text": [
      "num>>> 0\n",
      "sqr_num 0\n",
      "num>>> 1\n",
      "sqr_num 1\n",
      "num>>> 2\n",
      "sqr_num 4\n",
      "num>>> 3\n",
      "sqr_num 9\n",
      "num>>> 4\n",
      "sqr_num 16\n",
      "num>>> 5\n",
      "sqr_num 25\n",
      "num>>> 6\n",
      "sqr_num 36\n",
      "num>>> 7\n",
      "sqr_num 49\n",
      "num>>> 8\n",
      "sqr_num 64\n",
      "num>>> 9\n",
      "sqr_num 81\n",
      "num>>> 10\n",
      "sqr_num 100\n",
      "[0, 1, 4, 9, 16, 25, 36, 49, 64, 81, 100]\n"
     ]
    }
   ],
   "source": [
    "sqr_list = []\n",
    "def get_sqr_list(n: int):\n",
    "    for num in range(0,n):\n",
    "        print(\"num>>>\", num)\n",
    "        sqr_num = num * num\n",
    "        print(\"sqr_num\", sqr_num)\n",
    "        sqr_list.append(sqr_num)\n",
    "        \n",
    "get_sqr_list(11)\n",
    "print(sqr_list)"
   ]
  },
  {
   "cell_type": "markdown",
   "metadata": {},
   "source": [
    "### __COOL ZINDAGI__"
   ]
  },
  {
   "cell_type": "code",
   "execution_count": null,
   "metadata": {},
   "outputs": [
    {
     "name": "stdout",
     "output_type": "stream",
     "text": [
      "sqr_list>>> [0, 1, 4, 9, 16, 25, 36, 49, 64, 81, 100]\n"
     ]
    }
   ],
   "source": [
    "def get_sqr_list(n: int):\n",
    "    # for num in range(n):\n",
    "        # num * num\n",
    "      # sqr_list = [ output loop with condition ]\n",
    "    # sqr_list - [ num for num in range(n) ]\n",
    "    sqr_list = [num * num for num in range(11)]\n",
    "    print (\"sqr_list>>>\", sqr_list)\n",
    "\n",
    "get_sqr_list(11)"
   ]
  },
  {
   "cell_type": "code",
   "execution_count": 43,
   "metadata": {},
   "outputs": [
    {
     "name": "stdout",
     "output_type": "stream",
     "text": [
      "[2, 4, 6, 8, 10]\n"
     ]
    }
   ],
   "source": [
    "numbers = [1,2,3,4,5,6,7,8,9,10]\n",
    "even_number = []\n",
    "\n",
    "# if num % 2 == 0:\n",
    "#     print(\"number is even\")\n",
    "# print(13 % 2)\n",
    "\n",
    "for num in numbers:\n",
    "    if num % 2 == 0:\n",
    "        even_number.append(num)\n",
    "print(even_number)"
   ]
  },
  {
   "cell_type": "markdown",
   "metadata": {},
   "source": [
    "### __SUPER COOL ZINDAGI__"
   ]
  },
  {
   "cell_type": "code",
   "execution_count": null,
   "metadata": {},
   "outputs": [
    {
     "name": "stdout",
     "output_type": "stream",
     "text": [
      "[2, 4, 6, 8, 10]\n"
     ]
    }
   ],
   "source": [
    "numbers = [1,2,3,4,5,6,7,8,9,10]\n",
    "# number ko return kro agr number wo even ho\n",
    "even_list = [num for num in numbers if num % 2 == 0]\n",
    "print(even_list)"
   ]
  },
  {
   "cell_type": "markdown",
   "metadata": {},
   "source": [
    "# _____GENERATOR🧞_____"
   ]
  },
  {
   "cell_type": "code",
   "execution_count": 45,
   "metadata": {},
   "outputs": [
    {
     "name": "stdout",
     "output_type": "stream",
     "text": [
      "[0, 1, 2, 3, 4, 5, 6, 7, 8, 9, 10]\n"
     ]
    }
   ],
   "source": [
    "def get_numbers():\n",
    "    result = []\n",
    "    for num in range(0,11):\n",
    "        result.append(num)\n",
    "    return result\n",
    "\n",
    "number_list = get_numbers()\n",
    "print(number_list)"
   ]
  },
  {
   "cell_type": "code",
   "execution_count": 56,
   "metadata": {},
   "outputs": [
    {
     "name": "stdout",
     "output_type": "stream",
     "text": [
      "rsult>>> 0\n",
      "rsult>>> 1\n",
      "rsult>>> 2\n",
      "rsult>>> 3\n",
      "rsult>>> 4\n",
      "rsult>>> 5\n",
      "rsult>>> 6\n",
      "rsult>>> 7\n",
      "rsult>>> 8\n",
      "rsult>>> 9\n",
      "rsult>>> 10\n"
     ]
    }
   ],
   "source": [
    "def get_generated_values():\n",
    "    for num in range(0,11):\n",
    "        yield num # 0 -> 1\n",
    "\n",
    "result = get_generated_values()\n",
    "# print(next(result))\n",
    "# print(next(result))\n",
    "# print(next(result))\n",
    "# print(next(result))\n",
    "# print(next(result))\n",
    "# print(next(result))\n",
    "# print(next(result))\n",
    "# print(next(result))\n",
    "# print(next(result))\n",
    "# print(next(result))\n",
    "# print(next(result))\n",
    "\n",
    "for num in result:\n",
    "    print(\"rsult>>>\",num)\n",
    "# print (\"reslt>>>\", result)"
   ]
  }
 ],
 "metadata": {
  "kernelspec": {
   "display_name": "Python 3",
   "language": "python",
   "name": "python3"
  },
  "language_info": {
   "codemirror_mode": {
    "name": "ipython",
    "version": 3
   },
   "file_extension": ".py",
   "mimetype": "text/x-python",
   "name": "python",
   "nbconvert_exporter": "python",
   "pygments_lexer": "ipython3",
   "version": "3.13.1"
  }
 },
 "nbformat": 4,
 "nbformat_minor": 2
}
