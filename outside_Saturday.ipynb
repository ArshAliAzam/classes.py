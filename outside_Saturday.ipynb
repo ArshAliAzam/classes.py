{
 "cells": [
  {
   "cell_type": "markdown",
   "id": "933a2568",
   "metadata": {},
   "source": [
    "## ______OOP (Object Oriented Programming)🤭______"
   ]
  },
  {
   "cell_type": "markdown",
   "id": "7f820c10",
   "metadata": {},
   "source": [
    "# ______OOP 4 Pillar💊______\n",
    "### 1 Imheritence\n",
    "### 2 Polymorphism\n",
    "### 3 Abstraction\n",
    "### 4 Encapsulation\n",
    "-------x--------x---------"
   ]
  },
  {
   "cell_type": "markdown",
   "id": "99756c59",
   "metadata": {},
   "source": [
    "## ENCAPSULATION 🥷\n",
    "means (hiden)"
   ]
  },
  {
   "cell_type": "code",
   "execution_count": 3,
   "id": "98d62920",
   "metadata": {},
   "outputs": [
    {
     "name": "stdout",
     "output_type": "stream",
     "text": [
      "_____The Teacher is Here!🙄_____\n",
      "Arsh\n",
      "18\n",
      "501028\n",
      "501030\n",
      "_____The Teacher is Here!🙄_____\n",
      "Aqib\n",
      "60\n",
      "501029\n"
     ]
    }
   ],
   "source": [
    "class Person:\n",
    "#   attribute\n",
    "    # name: str = \"\"\n",
    "    # age: int = 0 \n",
    "\n",
    "#   constructor\n",
    "    def __init__(self,user_name, user_age, roll_no):\n",
    "        print(\"_____The Teacher is Here!🙄_____\")\n",
    "    #   attribute\n",
    "        self.name = user_name \n",
    "        self.age = user_age\n",
    "        self.__roll_no = roll_no # access modifiers (public, private, protected)\n",
    "        # self.__roll_no = roll_no # private variable\n",
    "\n",
    "    def get_roll_no(self): # getter function -> Encapsulation\n",
    "        return self.__roll_no # -> 501028\n",
    "    \n",
    "    def set_roll_no(self, roll_no): # setter function\n",
    "        self.__roll_no = roll_no\n",
    "        return self.__roll_no\n",
    "    \n",
    "\n",
    "# instance\n",
    "person1 = Person(\"Arsh\", 18, 501028)\n",
    "print(person1.name)\n",
    "print(person1.age)\n",
    "# print(person1.__roll_no)\n",
    "# print(person1.__roll_no)\n",
    "# print(person1.roll_no) # private variable cannot be accessed outside the class\n",
    "print(person1.get_roll_no())\n",
    "print(person1.set_roll_no(501030)) # setter function\n",
    "\n",
    "\n",
    "person2 = Person(\"Aqib\", 60, 501027)\n",
    "print(person2.name)\n",
    "print(person2.age)\n",
    "# print(person2.roll_no)\n",
    "# print(person2.get__roll_no())\n",
    "print(person2.set_roll_no(501029)) # setter function\n",
    "\n"
   ]
  },
  {
   "cell_type": "markdown",
   "id": "b388b974",
   "metadata": {},
   "source": [
    "## ABSTRACTION🫸\n",
    "koy asi logic jis ka user sai koi laina daina nahi hai"
   ]
  },
  {
   "cell_type": "code",
   "execution_count": 43,
   "id": "2f375416",
   "metadata": {},
   "outputs": [
    {
     "name": "stdout",
     "output_type": "stream",
     "text": [
      "_____The Teacher is Here!🙄_____\n",
      "transpotation>>> bike\n",
      "ARSH ghr jata hai bike se\n"
     ]
    }
   ],
   "source": [
    "class Person:\n",
    "#   attribute\n",
    "    # name: str = \"\"\n",
    "    # age: int = 0 \n",
    "\n",
    "#   constructor\n",
    "    def __init__(self,user_name, user_age, roll_no):\n",
    "        print(\"_____The Teacher is Here!🙄_____\")\n",
    "    #   attribute\n",
    "        self.name = user_name \n",
    "        self.age = user_age\n",
    "        self.__roll_no = roll_no # access modifiers (public, private, protected)\n",
    "        # self.__roll_no = roll_no # private variable\n",
    "\n",
    "\n",
    "\n",
    "    def get__roll_no(self): # getter function -> Encapsulation\n",
    "        return self.__roll_no # -> 501028\n",
    "    \n",
    "    def set__roll_no(self, roll_no): # setter function\n",
    "        self.__roll_no = roll_no\n",
    "        return self.__roll_no\n",
    "    \n",
    "\n",
    "            #______QUESTION REQUIREMENT______\n",
    "        # agr banda ghr ja rha hai to kese ja rha hai.\n",
    "    def commute(self,destination):\n",
    "        transportation_method = self.__mode_of_transportation_ka_tareeqa(destination)\n",
    "        print(\"transpotation>>>\", transportation_method)\n",
    "        print(f\"{self.name} ghr jata hai {transportation_method} se\")\n",
    "    \n",
    "    \n",
    "    def __mode_of_transportation_ka_tareeqa(self,destination):\n",
    "        if destination == \"home\":\n",
    "            return \"bike\"\n",
    "        elif destination == \"home\":\n",
    "            return \"raksha\"\n",
    "        else:\n",
    "            return \"car\"\n",
    "\n",
    "person3 = Person(\"ARSH\", 19, 501027)\n",
    "# print(person2.name)\n",
    "# print(person2.age)\n",
    "# # print(person2.roll_no)\n",
    "# # print(person2.get__roll_no())\n",
    "# print(person2.set__roll_no(501029)) # setter function\n",
    "person3.commute(\"home\")\n",
    "\n",
    "    "
   ]
  }
 ],
 "metadata": {
  "kernelspec": {
   "display_name": "Python 3",
   "language": "python",
   "name": "python3"
  },
  "language_info": {
   "codemirror_mode": {
    "name": "ipython",
    "version": 3
   },
   "file_extension": ".py",
   "mimetype": "text/x-python",
   "name": "python",
   "nbconvert_exporter": "python",
   "pygments_lexer": "ipython3",
   "version": "3.13.1"
  }
 },
 "nbformat": 4,
 "nbformat_minor": 5
}
