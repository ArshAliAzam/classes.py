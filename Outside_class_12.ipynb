{
 "cells": [
  {
   "cell_type": "markdown",
   "metadata": {},
   "source": [
    "# _____Recursive Function / Recursion😶‍🌫️🤔_____\n",
    "## ek function mai wohi fuction call kar na"
   ]
  },
  {
   "cell_type": "code",
   "execution_count": null,
   "metadata": {},
   "outputs": [],
   "source": [
    "def count_down():\n",
    "\n",
    "    count_down()\n",
    "\n",
    "count_down()"
   ]
  },
  {
   "cell_type": "markdown",
   "metadata": {},
   "source": [
    "# _____COUNT DOWN🔄️_____ / Recursion"
   ]
  },
  {
   "cell_type": "code",
   "execution_count": null,
   "metadata": {},
   "outputs": [
    {
     "name": "stdout",
     "output_type": "stream",
     "text": [
      "_____COUNT DOWN_____\n",
      "num>>> 10\n",
      "num>>> 9\n",
      "num>>> 8\n",
      "num>>> 7\n",
      "num>>> 6\n",
      "num>>> 5\n",
      "num>>> 4\n",
      "num>>> 3\n",
      "num>>> 2\n",
      "num>>> 1\n",
      "Ramadan mubarak🥰\n"
     ]
    }
   ],
   "source": [
    "print(\"_____COUNT DOWN_____\")\n",
    "\n",
    "def countdown(num: int)-> int:\n",
    "    print(\"num>>>\",num)\n",
    "    if num > 1:\n",
    "        countdown(num - 1)\n",
    "\n",
    "countdown(10)\n",
    "print(\"Ramadan mubarak🥰\")"
   ]
  },
  {
   "cell_type": "markdown",
   "metadata": {},
   "source": [
    "# _____LAMBDA FUNCTION🪔_____"
   ]
  },
  {
   "cell_type": "code",
   "execution_count": null,
   "metadata": {},
   "outputs": [],
   "source": [
    "def add(a:int,b:str)-> int:\n",
    "    return a + b\n",
    "\n",
    "result = add(5,6)\n",
    "print(\"result>>>\",result)"
   ]
  },
  {
   "cell_type": "code",
   "execution_count": 1,
   "metadata": {},
   "outputs": [
    {
     "name": "stdout",
     "output_type": "stream",
     "text": [
      "_____LAMBDA FUNCTION_____\n"
     ]
    },
    {
     "data": {
      "text/plain": [
       "11"
      ]
     },
     "execution_count": 1,
     "metadata": {},
     "output_type": "execute_result"
    }
   ],
   "source": [
    "#  _____FUNCTION_____\n",
    "# def add(a:int,b:str)-> int:\n",
    "#     return a + b\n",
    "\n",
    "#  _____LAMBDA FUNCTION_____\n",
    "# lambda parameters: expression / statement\n",
    "print(\"_____LAMBDA FUNCTION_____\")\n",
    "add = lambda a ,b: a + b\n",
    "\n",
    "add(5,6)"
   ]
  },
  {
   "cell_type": "markdown",
   "metadata": {},
   "source": [
    "# _____OS_____ MOBULE📱 / Making directary by python"
   ]
  },
  {
   "cell_type": "code",
   "execution_count": 3,
   "metadata": {},
   "outputs": [
    {
     "name": "stdout",
     "output_type": "stream",
     "text": [
      "CWD c:\\python\\IT.py\\Governer House\n",
      "Lis Dir ['Assignment', 'outside1.py', 'outside10.ipynb', 'outside11.ipynb', 'outside2.ipynb', 'outside3.ipynb', 'outside3.py', 'outside9.ipynb', 'Outside_class_12.ipynb', 'paractice.ipynb', 'TEST🥳']\n"
     ]
    }
   ],
   "source": [
    "import os\n",
    "\n",
    "print(\"CWD\",os.getcwd()) # current working directary\n",
    "print(\"Lis Dir\",os.listdir())\n",
    "# print(\"New Folder\",os.mkdir(\"OUTSIDECLASS😀\"))\n",
    "# print(\"Rename\",os.rename(\"OUTSIDECLASS😀\",\"TEST🥳\"))\n",
    "os.rmdir(\"TEST🥳\")"
   ]
  },
  {
   "cell_type": "markdown",
   "metadata": {},
   "source": [
    "# _____READING_____ FILE🗃️🗃️ BY PYTHON PROGRAM"
   ]
  },
  {
   "cell_type": "code",
   "execution_count": null,
   "metadata": {},
   "outputs": [
    {
     "name": "stdout",
     "output_type": "stream",
     "text": [
      "\"RAMADAM MUBARAK\"\n"
     ]
    }
   ],
   "source": [
    "file = open(\"text.txt\",\"r\") \n",
    "print(file.read())\n",
    "# print(\"File>>>\",file)"
   ]
  },
  {
   "cell_type": "markdown",
   "metadata": {},
   "source": [
    "# _____MAKING_____ FILE🗃️🗃️ BY PYTHON PROGRAM"
   ]
  },
  {
   "cell_type": "code",
   "execution_count": 13,
   "metadata": {},
   "outputs": [],
   "source": [
    "file = open(\"text2.txt\",\"a\")\n",
    "file.write(\"\\nI am Fine\")\n",
    "file.close()"
   ]
  },
  {
   "cell_type": "markdown",
   "metadata": {},
   "source": [
    "# _____\"WITH\"_____\n",
    "MAKING FILE BY PYTHON PROGRAM"
   ]
  },
  {
   "cell_type": "code",
   "execution_count": null,
   "metadata": {},
   "outputs": [],
   "source": [
    "with open(\"text2.txt\",\"a\") as f:\n",
    "    f.write(\"\\nwhat are u doing now a days?\")"
   ]
  }
 ],
 "metadata": {
  "kernelspec": {
   "display_name": "Python 3",
   "language": "python",
   "name": "python3"
  },
  "language_info": {
   "codemirror_mode": {
    "name": "ipython",
    "version": 3
   },
   "file_extension": ".py",
   "mimetype": "text/x-python",
   "name": "python",
   "nbconvert_exporter": "python",
   "pygments_lexer": "ipython3",
   "version": "3.13.1"
  }
 },
 "nbformat": 4,
 "nbformat_minor": 2
}
