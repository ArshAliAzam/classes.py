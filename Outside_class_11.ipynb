{
 "cells": [
  {
   "cell_type": "markdown",
   "metadata": {},
   "source": [
    "# Short Hand if Else / Ternary Operation🫡"
   ]
  },
  {
   "cell_type": "code",
   "execution_count": 5,
   "metadata": {},
   "outputs": [
    {
     "name": "stdout",
     "output_type": "stream",
     "text": [
      "number is less than 10\n"
     ]
    }
   ],
   "source": [
    "num: int = 9\n",
    "\n",
    "if num > 10:\n",
    "    print(\"number is greater than 10\")\n",
    "    num = num + 10\n",
    "    print('num<<<', num)\n",
    "else:\n",
    "    print(\"number is less than 10\")"
   ]
  },
  {
   "cell_type": "code",
   "execution_count": null,
   "metadata": {},
   "outputs": [
    {
     "name": "stdout",
     "output_type": "stream",
     "text": [
      "number is less than 10\n"
     ]
    }
   ],
   "source": [
    "# if condition\n",
    "# else:\n",
    "#     statment\n",
    "\n",
    "# if statement if condition else statement\n",
    "num: int = 9\n",
    "print(\"num is greater than 10\") if num > 10 else print(\"number is less than 10\")"
   ]
  },
  {
   "cell_type": "code",
   "execution_count": null,
   "metadata": {},
   "outputs": [
    {
     "name": "stdout",
     "output_type": "stream",
     "text": [
      "num 5\n"
     ]
    }
   ],
   "source": [
    "num = 15\n",
    "\n",
    "# num become 20 if num less than 10 else print 5\n",
    "num = 20 if num < 10 else  5\n",
    "print(\"num: \",num)"
   ]
  },
  {
   "cell_type": "markdown",
   "metadata": {},
   "source": [
    "# Enumerated Function"
   ]
  },
  {
   "cell_type": "code",
   "execution_count": null,
   "metadata": {},
   "outputs": [
    {
     "name": "stdout",
     "output_type": "stream",
     "text": [
      "hello arsh\n",
      "0: arsh\n",
      "1: aqib\n",
      "2: sajid\n"
     ]
    }
   ],
   "source": [
    "#          0       1        2   \n",
    "names = [\"arsh\", \"aqib\", \"sajid\"]\n",
    "\n",
    "# print(names[0])\n",
    "index = 0\n",
    "for name in names:\n",
    "    if name in \"arsh\":\n",
    "        print(\"hello arsh\")\n",
    "    print(f\"{index}: {name}\")\n",
    "    index += 1"
   ]
  },
  {
   "cell_type": "markdown",
   "metadata": {},
   "source": [
    "# ENUMERATE🥰"
   ]
  },
  {
   "cell_type": "code",
   "execution_count": 47,
   "metadata": {},
   "outputs": [
    {
     "name": "stdout",
     "output_type": "stream",
     "text": [
      "Assalam-alaikom\n",
      "0: arsh\n",
      "Assalam-alaikom\n",
      "1: aqib\n",
      "Assalam-alaikom\n",
      "2: sajid\n"
     ]
    }
   ],
   "source": [
    "names = [\"arsh\", \"aqib\", \"sajid\"]\n",
    "\n",
    "# show the index of list\n",
    "for index,name in enumerate(names):\n",
    "    if name in \"aqib,arsh,sajid\":\n",
    "        print(\"Assalam-alaikom\")\n",
    "    print(f\"{index}: {name}\")"
   ]
  },
  {
   "cell_type": "markdown",
   "metadata": {},
   "source": [
    "# MAP🗺️, FILTER🎥, REDUCE⭕ FUNCTION"
   ]
  },
  {
   "cell_type": "code",
   "execution_count": 60,
   "metadata": {},
   "outputs": [
    {
     "name": "stdout",
     "output_type": "stream",
     "text": [
      "new list before for loop\n",
      "[]\n",
      "\n",
      "add elemnt to list\n",
      "num>>> 1\n",
      "Calling square function\n",
      "num_sqr>>> 1\n",
      "add elemnt to list\n",
      "num>>> 2\n",
      "Calling square function\n",
      "num_sqr>>> 4\n",
      "add elemnt to list\n",
      "num>>> 3\n",
      "Calling square function\n",
      "num_sqr>>> 9\n",
      "add elemnt to list\n",
      "num>>> 4\n",
      "Calling square function\n",
      "num_sqr>>> 16\n",
      "add elemnt to list\n",
      "num>>> 5\n",
      "Calling square function\n",
      "num_sqr>>> 25\n",
      "\n",
      "new list after for loop\n",
      "[1, 4, 9, 16, 25]\n"
     ]
    }
   ],
   "source": [
    "numbers = [1,2,3,4,5]\n",
    "\n",
    "def square(num: int):\n",
    "    return num * num\n",
    "\n",
    "new_list = []\n",
    "print(\"new list before for loop\")\n",
    "print(new_list)\n",
    "print()\n",
    "for num in numbers:\n",
    "    print(\"add elemnt to list\")\n",
    "    print(\"num>>>\",num)\n",
    "    num_sqr = square(num)\n",
    "    print(\"Calling square function\")\n",
    "    print(\"num_sqr>>>\",num_sqr)\n",
    "    new_list.append(num_sqr)\n",
    "print()\n",
    "print(\"new list after for loop\")\n",
    "print(new_list)\n",
    "# square(2)"
   ]
  },
  {
   "cell_type": "markdown",
   "metadata": {},
   "source": [
    "# MAP🗺️"
   ]
  },
  {
   "cell_type": "code",
   "execution_count": null,
   "metadata": {},
   "outputs": [
    {
     "name": "stdout",
     "output_type": "stream",
     "text": [
      "numbers>>> [1, 2, 3, 4, 5]\n",
      "new_list>>> [1, 4, 9, 16, 25]\n"
     ]
    }
   ],
   "source": [
    "numbers = [1,2,3,4,5]\n",
    "#        [1, 4, 9, 16, 25]\n",
    "\n",
    "def square(num: int): # 1 function\n",
    "    return num * num\n",
    "#                   function,list\n",
    "new_list = list(map(square,numbers)) # map is use to tell the square number and make new list\n",
    "print(\"numbers>>>\",numbers)\n",
    "print(\"new_list>>>\",new_list)"
   ]
  },
  {
   "cell_type": "markdown",
   "metadata": {},
   "source": [
    "# FILTER🎥"
   ]
  },
  {
   "cell_type": "code",
   "execution_count": 68,
   "metadata": {},
   "outputs": [
    {
     "name": "stdout",
     "output_type": "stream",
     "text": [
      "filtered_list>>> [4, 5]\n"
     ]
    }
   ],
   "source": [
    "numbers = [1,2,3,4,5]\n",
    "\n",
    "def filter_function(num:int):\n",
    "    return num > 3\n",
    "\n",
    "filtered_list = list(filter(filter_function,numbers))\n",
    "print(\"filtered_list>>>\",filtered_list)"
   ]
  },
  {
   "cell_type": "markdown",
   "metadata": {},
   "source": [
    "# Covert the filter function into map"
   ]
  },
  {
   "cell_type": "code",
   "execution_count": 70,
   "metadata": {},
   "outputs": [
    {
     "name": "stdout",
     "output_type": "stream",
     "text": [
      "map_list>>> [False, False, False, True, True]\n"
     ]
    }
   ],
   "source": [
    "numbers = [1,2,3,4,5]\n",
    "\n",
    "def map_function(num:int):\n",
    "    return num > 3\n",
    "\n",
    "map_list = list(map(map_function,numbers))\n",
    "print(\"map_list>>>\",map_list)"
   ]
  }
 ],
 "metadata": {
  "kernelspec": {
   "display_name": "Python 3",
   "language": "python",
   "name": "python3"
  },
  "language_info": {
   "codemirror_mode": {
    "name": "ipython",
    "version": 3
   },
   "file_extension": ".py",
   "mimetype": "text/x-python",
   "name": "python",
   "nbconvert_exporter": "python",
   "pygments_lexer": "ipython3",
   "version": "3.13.1"
  }
 },
 "nbformat": 4,
 "nbformat_minor": 2
}
