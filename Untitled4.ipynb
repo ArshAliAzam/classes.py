{
  "nbformat": 4,
  "nbformat_minor": 0,
  "metadata": {
    "colab": {
      "provenance": [],
      "authorship_tag": "ABX9TyPzPKpwLEmX8GcEE50vMbEd",
      "include_colab_link": true
    },
    "kernelspec": {
      "name": "python3",
      "display_name": "Python 3"
    },
    "language_info": {
      "name": "python"
    }
  },
  "cells": [
    {
      "cell_type": "markdown",
      "metadata": {
        "id": "view-in-github",
        "colab_type": "text"
      },
      "source": [
        "<a href=\"https://colab.research.google.com/github/ArshAliAzam/projects/blob/main/Untitled4.ipynb\" target=\"_parent\"><img src=\"https://colab.research.google.com/assets/colab-badge.svg\" alt=\"Open In Colab\"/></a>"
      ]
    },
    {
      "cell_type": "markdown",
      "source": [
        "# DEFUALT PARAMETER😁"
      ],
      "metadata": {
        "id": "gxWUkAWnw32-"
      }
    },
    {
      "cell_type": "code",
      "source": [
        "def box(a, b=5):\n",
        "    return a+b\n",
        "\n",
        "sum = box(2)\n",
        "print(sum)\n",
        "\n",
        "print(type(box))"
      ],
      "metadata": {
        "id": "SQXIQjD1vvrn"
      },
      "execution_count": null,
      "outputs": []
    },
    {
      "cell_type": "code",
      "source": [
        "# CLASS / TYPE\n",
        "\n",
        "def name():\n",
        "    print (\"TYPES\")\n",
        "name()        # CLASS \"FUNCTION\"\n",
        "name1 = ()    # CLASS \"TUPLE\"\n",
        "name2 = {}    # CLASS \"DICTANARY\"\n",
        "name3 = []    # CLASS \"LIST\"\n",
        "name4 = \"\"    # CLASS \"STRING\"\n",
        "name5 = 1     # CLASS \"INTEGER\"\n",
        "name6 = 1.0   # CLASS \"FLOOT\"\n",
        "name7 = True  # CLASS \"BOOLEAN\"\n",
        "\n",
        "print(type(name))# \"TYPE\" show the class is your varaible\n",
        "print(type(name1))\n",
        "print(type(name2))\n",
        "print(type(name3))\n",
        "print(type(name4))\n",
        "print(type(name5))\n",
        "print(type(name6))\n",
        "print(type(name7))"
      ],
      "metadata": {
        "id": "olrT9glpw6QW"
      },
      "execution_count": null,
      "outputs": []
    },
    {
      "cell_type": "markdown",
      "source": [
        "# STRING METHOD 🧵"
      ],
      "metadata": {
        "id": "wcmG_cKyw8TB"
      }
    },
    {
      "cell_type": "code",
      "source": [
        "name1 = \" my name is arsh ali azam. my father name is azam. my age is 17\"\n",
        "name = \"arsh ali azam\"\n",
        "print(type(name))\n",
        "\n",
        "print(name)\n",
        "print(f\"capital: {name.capitalize()}\") # capitalize first word\n",
        "print(f\"count: {name1.count('my')}\") # count any word or letter in a \"string\"\n",
        "print(f\"length: {len(name)}\") # show the length of your \"word\" , \"string\" or ............\n",
        "print(f\"find: {name1.find(\"name\")}\") # find by index numbers includes \"space\"\n",
        "print(f\"index: {name1.index(\"name\")}\") # show the \"index\"\n",
        "print(f\"replace: {name1.replace(\"17\",\"18\").upper()}\") # Replace your \"string\" into new \"string\" \\ UPPER USE TO \"CAPITAL\" YOUR ALL \"STRING\"\n",
        "\n"
      ],
      "metadata": {
        "id": "Ctimboi8w7lP"
      },
      "execution_count": null,
      "outputs": []
    },
    {
      "cell_type": "markdown",
      "source": [
        "# LIST METHODS 📃"
      ],
      "metadata": {
        "id": "sMKxL-Akw9i-"
      }
    },
    {
      "cell_type": "code",
      "source": [
        "my_list = [\"arsh\", \"ali\", \"azam\", \"rohan\", \"mosa\", \"anus\"]\n",
        "\n",
        "my_list.append(\"mohsin\") # APPEND the \"string\" in your list ... but in end\n",
        "print(f\"append: {my_list}\")\n",
        "my_list.insert(0,\"Sir zai\") # INSERT the \"string\" in your list ... ,by index number\n",
        "print(f\"insert: {my_list}\")\n",
        "my_list.reverse() # REVERSE your list\n",
        "print(f\"reversed: {my_list}\")\n",
        "my_list.pop() # POPPING the word from your list .... but from end... with print show the pop \"string\"\n",
        "print(f\"popping: {my_list}\")\n",
        "my_list.remove(\"mohsin\") # REMOVE the word from your list you want ... just write the name of item from list in \"string\"\n",
        "print(f\"remove: {my_list}\")\n",
        "my_list.sort() # SORT the list from a,b,c,d........ in asscending / but in number it sort by defualt\n",
        "print(f\"sort: {my_list}\")\n",
        "my_list.sort(reverse=True) # SORT REVERSE use to sort in deccending order eles it z,y,x,w,v,u..... or 9.8.7.6.5....\n",
        "print(f\"sort in reverse: {my_list}\")"
      ],
      "metadata": {
        "id": "oYKqNPwmw9F1"
      },
      "execution_count": null,
      "outputs": []
    },
    {
      "cell_type": "markdown",
      "source": [
        "# EXTEND THE LIST"
      ],
      "metadata": {
        "id": "MqzsNgDtw_BQ"
      }
    },
    {
      "cell_type": "code",
      "source": [
        "my_list = [\"arsh\", \"ali\", \"azam\", \"rohan\", \"mosa\", \"anus\"]\n",
        "new_teacher = [\"arham\", \"mimo\", \"charlas\"]\n",
        "print(f\"Old list: {my_list}\")\n",
        "my_list.extend(new_teacher)   # EXTEND is use to add more \"name\" in your Old list .. but in last\n",
        "print(f\"New list: {my_list}\")"
      ],
      "metadata": {
        "id": "w5P8CrXpw-gN"
      },
      "execution_count": null,
      "outputs": []
    },
    {
      "cell_type": "markdown",
      "source": [
        "# DICTIONARY METHODS 📖\n"
      ],
      "metadata": {
        "id": "is0s977_xBYy"
      }
    },
    {
      "cell_type": "code",
      "source": [
        "my_dict = {\n",
        "    \"name\": \"arsh\",\n",
        "    \"age\": 17,\n",
        "    \"city\": \"karachi\",\n",
        "}\n",
        "new = {\"roll\": \"PIAIC501028\"} # new varaible for updated my dictionary\n",
        "\n",
        "print(f\"keys: {my_dict.keys()}\") # print only the keys from your dictionary\n",
        "\n",
        "print(f\"values: {my_dict.values()}\") # print only the values from your dictionary\n",
        "\n",
        "print(f\"items: {my_dict.items()}\") # print  the item from your dictionary... like , \"name\": arsh\n",
        "\n",
        "print(f\"get: {my_dict.get(\"age\")}\") # print only one values you want from your dictionary\n",
        "\n",
        "my_dict.update(new)# UPDATE use to update your dictionary or add a new item\n",
        "print(f\"update: {my_dict}\")\n",
        "\n",
        "my_dict.pop(\"city\")# POPPING is use to remove the items from the dictionary\n",
        "print(f\"popping: {my_dict}\")\n",
        "\n",
        "my_dict.clear()# CLEAR is use to \"clear\" your dictonary\n",
        "print(f\"clear: {my_dict}\")"
      ],
      "metadata": {
        "id": "N5aMkeQnxA5i"
      },
      "execution_count": null,
      "outputs": []
    }
  ]
}