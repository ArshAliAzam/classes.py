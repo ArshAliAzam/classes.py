{
 "cells": [
  {
   "cell_type": "markdown",
   "metadata": {},
   "source": [
    "# ERROR HANDLING "
   ]
  },
  {
   "cell_type": "code",
   "execution_count": 9,
   "metadata": {},
   "outputs": [
    {
     "name": "stdout",
     "output_type": "stream",
     "text": [
      "<class 'ZeroDivisionError'>\n",
      "division by zero\n"
     ]
    }
   ],
   "source": [
    "try:\n",
    "    num = 10\n",
    "    num2 = 0\n",
    "    result = num / num2 \n",
    "    print(result)\n",
    "\n",
    "except Exception as e:\n",
    "    print(type(e))\n",
    "    print(e)"
   ]
  },
  {
   "cell_type": "code",
   "execution_count": 10,
   "metadata": {},
   "outputs": [
    {
     "name": "stdout",
     "output_type": "stream",
     "text": [
      "this value is wrong Zero\n"
     ]
    }
   ],
   "source": [
    "list = [\"ali\", \"arsh\", \"azam\", \"aqib\"]\n",
    "try:\n",
    "    num = 10\n",
    "    num2 = 0\n",
    "    result = num / num2 \n",
    "    print(result)\n",
    "\n",
    "except ZeroDivisionError:\n",
    "    print(\"this value is wrong Zero\")\n"
   ]
  },
  {
   "cell_type": "code",
   "execution_count": 15,
   "metadata": {},
   "outputs": [
    {
     "name": "stdout",
     "output_type": "stream",
     "text": [
      "<class 'IndexError'>\n",
      "list index out of range\n"
     ]
    }
   ],
   "source": [
    "list = [\"ali\", \"arsh\", \"azam\", \"aqib\"]\n",
    "try:\n",
    "    result =list[7]\n",
    "    print(result)\n",
    "\n",
    "# except IndexError:\n",
    "#     print(\"wrong index\")\n",
    "\n",
    "except Exception as e:\n",
    "    print(type(e))\n",
    "    print(e)"
   ]
  }
 ],
 "metadata": {
  "kernelspec": {
   "display_name": "Python 3",
   "language": "python",
   "name": "python3"
  },
  "language_info": {
   "codemirror_mode": {
    "name": "ipython",
    "version": 3
   },
   "file_extension": ".py",
   "mimetype": "text/x-python",
   "name": "python",
   "nbconvert_exporter": "python",
   "pygments_lexer": "ipython3",
   "version": "3.13.1"
  }
 },
 "nbformat": 4,
 "nbformat_minor": 2
}
