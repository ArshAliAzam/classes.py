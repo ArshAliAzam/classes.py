{
  "nbformat": 4,
  "nbformat_minor": 0,
  "metadata": {
    "colab": {
      "provenance": [],
      "authorship_tag": "ABX9TyNjMSNrmnuq/d/tz26hCC7C",
      "include_colab_link": true
    },
    "kernelspec": {
      "name": "python3",
      "display_name": "Python 3"
    },
    "language_info": {
      "name": "python"
    }
  },
  "cells": [
    {
      "cell_type": "markdown",
      "metadata": {
        "id": "view-in-github",
        "colab_type": "text"
      },
      "source": [
        "<a href=\"https://colab.research.google.com/github/ArshAliAzam/classes.py/blob/main/online_class2.ipynb\" target=\"_parent\"><img src=\"https://colab.research.google.com/assets/colab-badge.svg\" alt=\"Open In Colab\"/></a>"
      ]
    },
    {
      "cell_type": "code",
      "source": [
        "#Chaand taara khan is hosting  rabri party at his home. he need to know the total amount of people attending the event and the amount of rabri (in grams and kg) he needs to prepare.\n",
        "\n",
        " #There are 12 faculty members.\n",
        " #There are 4 administrative staff members.\n",
        " #There are 100 students in the institute.\n",
        " #There are 15 people absent.\n",
        " #Per person rabri is 250g\n",
        "\n",
        "faculty = 12\n",
        "admin = 4\n",
        "students = 100\n",
        "absent = 15\n",
        "per_person_rabri=250\n",
        "#total_rabri_in_gram=25250 #second way to solve\n",
        "total_members = faculty + admin +students\n",
        "#print(f\"total member is {total_members}\")\n",
        "\n",
        "total_present_members=total_members -absent\n",
        "print(f\"total present members: {total_present_members} \")\n",
        "\n",
        "print(f\"total rabri in grams:{total_present_members * per_person_rabri}g\")\n",
        "\n",
        "#print(f\"total rabri in kg:{total_rabri_in_gram //1000}kg\") # second way to solve\n",
        "\n",
        "total_rabri_g=total_present_members * per_person_rabri\n",
        "print(f\"total rabri in kg:{total_rabri_g //1000}kg\")"
      ],
      "metadata": {
        "id": "6EST7GR8H-bd"
      },
      "execution_count": null,
      "outputs": []
    }
  ]
}